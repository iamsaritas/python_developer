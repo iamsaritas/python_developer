{
 "cells": [
  {
   "cell_type": "code",
   "execution_count": null,
   "id": "f5527a68-7cc2-4f01-adeb-3479dff77deb",
   "metadata": {},
   "outputs": [],
   "source": [
    "# Creating a calculator application"
   ]
  },
  {
   "cell_type": "code",
   "execution_count": null,
   "id": "c05269c0-e596-4228-8101-57bfb17d3141",
   "metadata": {},
   "outputs": [],
   "source": [
    "# 1. Design the user interface for the calculator using Python's input function."
   ]
  },
  {
   "cell_type": "code",
   "execution_count": 3,
   "id": "af1d994a-5abc-4255-8fb4-ebc45ed7ad3e",
   "metadata": {},
   "outputs": [
    {
     "name": "stdout",
     "output_type": "stream",
     "text": [
      "Select operation:\n",
      "1. Addition\n",
      "2. Subtraction\n",
      "3. Multiplication\n",
      "4. Division\n"
     ]
    },
    {
     "name": "stdin",
     "output_type": "stream",
     "text": [
      "Enter choice (1/2/3/4):  1\n",
      "Enter first number:  5\n",
      "Enter second number:  5\n"
     ]
    },
    {
     "name": "stdout",
     "output_type": "stream",
     "text": [
      "Result: 10.0\n"
     ]
    }
   ],
   "source": [
    "# Function to perform addition\n",
    "def add(x, y):\n",
    "    return x + y\n",
    "\n",
    "# Function to perform subtraction\n",
    "def subtract(x, y):\n",
    "    return x - y\n",
    "\n",
    "# Function to perform multiplication\n",
    "def multiply(x, y):\n",
    "    return x * y\n",
    "\n",
    "# Function to perform division\n",
    "def divide(x, y):\n",
    "    if y == 0:\n",
    "        return \"Cannot divide by zero!\"\n",
    "    else:\n",
    "        return x / y\n",
    "\n",
    "# Display menu of operations\n",
    "print(\"Select operation:\")\n",
    "print(\"1. Addition\")\n",
    "print(\"2. Subtraction\")\n",
    "print(\"3. Multiplication\")\n",
    "print(\"4. Division\")\n",
    "\n",
    "# Take input from the user\n",
    "choice = input(\"Enter choice (1/2/3/4): \")\n",
    "\n",
    "num1 = float(input(\"Enter first number: \"))\n",
    "num2 = float(input(\"Enter second number: \"))\n",
    "\n",
    "if choice == '1':\n",
    "    print(\"Result:\", add(num1, num2))\n",
    "elif choice == '2':\n",
    "    print(\"Result:\", subtract(num1, num2))\n",
    "elif choice == '3':\n",
    "    print(\"Result:\", multiply(num1, num2))\n",
    "elif choice == '4':\n",
    "    print(\"Result:\", divide(num1, num2))\n",
    "else:\n",
    "    print(\"Invalid input\")\n"
   ]
  },
  {
   "cell_type": "code",
   "execution_count": null,
   "id": "90cf155c-5bbd-481b-99e3-90efcc509319",
   "metadata": {},
   "outputs": [],
   "source": [
    "# 2. Implement functions for basic arithmetic operations like addition, subtraction, multiplication, and division."
   ]
  },
  {
   "cell_type": "code",
   "execution_count": 4,
   "id": "f3e08480-9648-4581-96b8-0a1c8c730401",
   "metadata": {},
   "outputs": [
    {
     "name": "stdout",
     "output_type": "stream",
     "text": [
      "Addition: 8\n",
      "Subtraction: 2\n",
      "Multiplication: 15\n",
      "Division: 1.6666666666666667\n"
     ]
    }
   ],
   "source": [
    "# Function to perform addition\n",
    "def add(x, y):\n",
    "    return x + y\n",
    "\n",
    "# Function to perform subtraction\n",
    "def subtract(x, y):\n",
    "    return x - y\n",
    "\n",
    "# Function to perform multiplication\n",
    "def multiply(x, y):\n",
    "    return x * y\n",
    "\n",
    "# Function to perform division\n",
    "def divide(x, y):\n",
    "    if y == 0:\n",
    "        return \"Cannot divide by zero!\"\n",
    "    else:\n",
    "        return x / y\n",
    "\n",
    "# Test the functions\n",
    "print(\"Addition:\", add(5, 3))\n",
    "print(\"Subtraction:\", subtract(5, 3))\n",
    "print(\"Multiplication:\", multiply(5, 3))\n",
    "print(\"Division:\", divide(5, 3))\n"
   ]
  },
  {
   "cell_type": "code",
   "execution_count": null,
   "id": "eb0c7c49-be6b-4a10-9038-f03f1e8e9440",
   "metadata": {},
   "outputs": [],
   "source": [
    "# 3. Handle user input validation to ensure the calculator behaves predictably."
   ]
  },
  {
   "cell_type": "code",
   "execution_count": 5,
   "id": "52c613b1-cf26-4ac1-a558-57f7b7cac197",
   "metadata": {},
   "outputs": [
    {
     "name": "stdin",
     "output_type": "stream",
     "text": [
      "Enter first number:  5\n",
      "Enter second number:  5\n",
      "Enter operation (+, -, *, /):  +\n"
     ]
    },
    {
     "name": "stdout",
     "output_type": "stream",
     "text": [
      "Result: 10.0\n"
     ]
    }
   ],
   "source": [
    "# Function to validate user input for numbers\n",
    "def get_number(prompt):\n",
    "    while True:\n",
    "        try:\n",
    "            number = float(input(prompt))\n",
    "            return number\n",
    "        except ValueError:\n",
    "            print(\"Invalid input. Please enter a valid number.\")\n",
    "\n",
    "# Function to validate user input for operation choice\n",
    "def get_operation():\n",
    "    while True:\n",
    "        operation = input(\"Enter operation (+, -, *, /): \")\n",
    "        if operation in ['+', '-', '*', '/']:\n",
    "            return operation\n",
    "        else:\n",
    "            print(\"Invalid operation. Please enter +, -, *, or /.\")\n",
    "\n",
    "# Get input from the user\n",
    "num1 = get_number(\"Enter first number: \")\n",
    "num2 = get_number(\"Enter second number: \")\n",
    "operation = get_operation()\n",
    "\n",
    "# Perform the selected operation\n",
    "if operation == '+':\n",
    "    result = num1 + num2\n",
    "elif operation == '-':\n",
    "    result = num1 - num2\n",
    "elif operation == '*':\n",
    "    result = num1 * num2\n",
    "else:\n",
    "    if num2 == 0:\n",
    "        result = \"Cannot divide by zero!\"\n",
    "    else:\n",
    "        result = num1 / num2\n",
    "\n",
    "# Display the result\n",
    "print(\"Result:\", result)\n"
   ]
  },
  {
   "cell_type": "code",
   "execution_count": null,
   "id": "c66bfce9-6280-4925-ae9f-98003969267d",
   "metadata": {},
   "outputs": [],
   "source": []
  }
 ],
 "metadata": {
  "kernelspec": {
   "display_name": "Python 3 (ipykernel)",
   "language": "python",
   "name": "python3"
  },
  "language_info": {
   "codemirror_mode": {
    "name": "ipython",
    "version": 3
   },
   "file_extension": ".py",
   "mimetype": "text/x-python",
   "name": "python",
   "nbconvert_exporter": "python",
   "pygments_lexer": "ipython3",
   "version": "3.11.7"
  }
 },
 "nbformat": 4,
 "nbformat_minor": 5
}
